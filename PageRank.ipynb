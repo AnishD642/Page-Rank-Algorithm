{
  "nbformat": 4,
  "nbformat_minor": 0,
  "metadata": {
    "colab": {
      "provenance": []
    },
    "kernelspec": {
      "name": "python3",
      "display_name": "Python 3"
    },
    "language_info": {
      "name": "python"
    }
  },
  "cells": [
    {
      "cell_type": "code",
      "metadata": {
        "colab": {
          "base_uri": "https://localhost:8080/"
        },
        "id": "6JmQKq_9yF0t",
        "outputId": "72975986-dcde-448d-c982-ad22e7f5892b"
      },
      "source": [
        "#Obtain the number of pages to be ranked\n",
        "print(\"Enter the number of pages : \")\n",
        "n=int(input())\n",
        "#Declare Pages Array to store Page names\n",
        "pages=[]\n",
        "#Accept the Page names\n",
        "print(\"Enter the pages : \")\n",
        "for i in range(n):\n",
        "    #Store it in Pages array\n",
        "    pages.append(input())"
      ],
      "execution_count": null,
      "outputs": [
        {
          "name": "stdout",
          "output_type": "stream",
          "text": [
            "Enter the number of pages : \n",
            "3\n",
            "Enter the pages : \n",
            "A\n",
            "B\n",
            "C\n"
          ]
        }
      ]
    },
    {
      "cell_type": "code",
      "metadata": {
        "colab": {
          "base_uri": "https://localhost:8080/"
        },
        "id": "_GqkbPgqyOrK",
        "outputId": "d50bd372-8b49-464f-9de7-1aa814a11d3a"
      },
      "source": [
        "#To store the directed links matrix\n",
        "links=[]\n",
        "#Obtain the inputs\n",
        "#If there is a link directed from page i to page j\n",
        "#Then enter 1\n",
        "#Else enter 0\n",
        "for i in range(n):\n",
        "    print(\"Enter the links from\",pages[i],\":\")\n",
        "    x=[]\n",
        "    for j in range(n):\n",
        "        x.append(int(input()))\n",
        "    links.append(x)"
      ],
      "execution_count": null,
      "outputs": [
        {
          "name": "stdout",
          "output_type": "stream",
          "text": [
            "Enter the links from A :\n",
            "0\n",
            "1\n",
            "1\n",
            "Enter the links from B :\n",
            "0\n",
            "0\n",
            "1\n",
            "Enter the links from C :\n",
            "1\n",
            "0\n",
            "0\n"
          ]
        }
      ]
    },
    {
      "cell_type": "code",
      "metadata": {
        "colab": {
          "base_uri": "https://localhost:8080/"
        },
        "id": "MnR9s-2SyQrc",
        "outputId": "8ea4fc69-b4de-488d-d310-0ab311d1d9dc"
      },
      "source": [
        "#Show the directed links matrix\n",
        "#Horizontal rows implies link originates from that page\n",
        "#Vertical columns implies link terminates at that page\n",
        "for i in range(n):\n",
        "    print(pages[i],end=\"  \")\n",
        "print('\\n')\n",
        "for i in range(n):\n",
        "    print(pages[i],end=\"  \")\n",
        "    for j in range(n):\n",
        "        print(links[i][j],end=\" \")\n",
        "    print('\\n')"
      ],
      "execution_count": null,
      "outputs": [
        {
          "output_type": "stream",
          "name": "stdout",
          "text": [
            "A  B  C  \n",
            "\n",
            "A  0 1 1 \n",
            "\n",
            "B  0 0 1 \n",
            "\n",
            "C  1 0 0 \n",
            "\n"
          ]
        }
      ]
    },
    {
      "cell_type": "code",
      "metadata": {
        "colab": {
          "base_uri": "https://localhost:8080/"
        },
        "id": "ROFjIXmOySfz",
        "outputId": "fbfc8aa3-621e-489d-a8ed-06711c7190f7"
      },
      "source": [
        "#Damping factor\n",
        "d=0.85\n",
        "#Array ranks to store the page ranks\n",
        "ranks=[]\n",
        "#Initial ranks of the pages with value 1\n",
        "for i in range(n):\n",
        "    ranks.append(1)\n",
        "#Enter the number of iterations needed to find the pageranks\n",
        "print(\"Enter the number of iterations : \")\n",
        "max=int(input())"
      ],
      "execution_count": null,
      "outputs": [
        {
          "name": "stdout",
          "output_type": "stream",
          "text": [
            "Enter the number of iterations : \n",
            "2\n"
          ]
        }
      ]
    },
    {
      "cell_type": "code",
      "metadata": {
        "id": "hyqk9vxvyUa1"
      },
      "source": [
        "#Compute the number of outlinks from each page\n",
        "outlinks=[]\n",
        "for i in range(n):\n",
        "    out=0\n",
        "    for j in range(n):\n",
        "        if links[i][j]==1:\n",
        "            out+=1\n",
        "    #Store the number of outlinks from each page in sorted manner\n",
        "    outlinks.append(out)"
      ],
      "execution_count": null,
      "outputs": []
    },
    {
      "cell_type": "code",
      "metadata": {
        "colab": {
          "base_uri": "https://localhost:8080/"
        },
        "id": "7GHWgFDdyWTV",
        "outputId": "44bae891-bd50-474b-c5fe-0642fcbc7d40"
      },
      "source": [
        "#Maximum iterations\n",
        "for k in range(max):\n",
        "    #For each column\n",
        "    #To page i\n",
        "    for i in range(n):\n",
        "        rank=0\n",
        "        #For each row\n",
        "        #From page j\n",
        "        for j in range(n):\n",
        "            #To check inlink to page i from page j\n",
        "            if links[j][i]==1:\n",
        "                #If there is an inlink\n",
        "                #Use the formula\n",
        "                #PageRank(i) = d * (PageRank(j)/Outlinks(j))\n",
        "                rank+=d*(ranks[j]/outlinks[j])\n",
        "        #Add (1-d) to the rank\n",
        "        rank+=1-d\n",
        "        #Store the rank for this iteration\n",
        "        ranks[i]=rank\n",
        "    print(\"After Iteration\",k+1,\" : \")\n",
        "    print(\"The pageranks are : \")\n",
        "    #Display the output\n",
        "    for i in range(n):\n",
        "        print(pages[i],end=\"  \")\n",
        "        print(ranks[i])\n",
        "    print('\\n')"
      ],
      "execution_count": null,
      "outputs": [
        {
          "output_type": "stream",
          "name": "stdout",
          "text": [
            "After Iteration 1  : \n",
            "The pageranks are : \n",
            "A  1.0\n",
            "B  0.575\n",
            "C  1.06375\n",
            "\n",
            "\n",
            "After Iteration 2  : \n",
            "The pageranks are : \n",
            "A  1.0541874999999998\n",
            "B  0.5980296875\n",
            "C  1.106354921875\n",
            "\n",
            "\n"
          ]
        }
      ]
    },
    {
      "cell_type": "code",
      "metadata": {
        "colab": {
          "base_uri": "https://localhost:8080/",
          "height": 319
        },
        "id": "OsoOVsxvyYD0",
        "outputId": "e84de06a-479e-4895-e5a1-203fe920c92d"
      },
      "source": [
        "#Importing Libraries to plot graph\n",
        "import networkx as nx\n",
        "import pylab as plt\n",
        "#Create blank directed graph\n",
        "D=nx.DiGraph()\n",
        "#Feed page link to graph\n",
        "for i in range(n):\n",
        "    for j in range(n):\n",
        "        if links[i][j]==1:\n",
        "            #Add directed edges from one node to another\n",
        "            D.add_weighted_edges_from([(pages[i],pages[j],1)])\n",
        "\n",
        "#Display the graph\n",
        "nx.draw_shell(D,with_labels=True,node_size=1500,node_color='yellow',arrowsize=25)\n",
        "plt.show()"
      ],
      "execution_count": null,
      "outputs": [
        {
          "output_type": "display_data",
          "data": {
            "image/png": "[encoded data removed]",
            "text/plain": [
              "<Figure size 432x288 with 1 Axes>"
            ]
          },
          "metadata": {}
        }
      ]
    },
    {
      "cell_type": "code",
      "metadata": {
        "id": "ZaXCDtfHy1Hz"
      },
      "source": [],
      "execution_count": null,
      "outputs": []
    }
  ]
}